{
 "cells": [
  {
   "cell_type": "code",
   "execution_count": 3,
   "metadata": {},
   "outputs": [
    {
     "name": "stdout",
     "output_type": "stream",
     "text": [
      "Initial model parameters:\n",
      "\n",
      "Name : GP regression\n",
      "Objective : 139714.59972824197\n",
      "Number of Parameters : 3\n",
      "Number of Optimization Parameters : 3\n",
      "Updates : True\n",
      "Parameters:\n",
      "  \u001b[1mGP_regression.         \u001b[0;0m  |  value  |  constraints  |  priors\n",
      "  \u001b[1mrbf.variance           \u001b[0;0m  |    1.0  |      +ve      |        \n",
      "  \u001b[1mrbf.lengthscale        \u001b[0;0m  |    1.0  |      +ve      |        \n",
      "  \u001b[1mGaussian_noise.variance\u001b[0;0m  |    1.0  |      +ve      |        \n"
     ]
    },
    {
     "data": {
      "application/vnd.jupyter.widget-view+json": {
       "model_id": "5f9834753f7b46159ab9b6d2c0677ec3",
       "version_major": 2,
       "version_minor": 0
      },
      "text/plain": [
       "HBox(children=(VBox(children=(IntProgress(value=0, max=1000), HTML(value=''))), Box(children=(HTML(value=''),)…"
      ]
     },
     "metadata": {},
     "output_type": "display_data"
    },
    {
     "name": "stdout",
     "output_type": "stream",
     "text": [
      "\n",
      "Optimized model parameters:\n",
      "\n",
      "Name : GP regression\n",
      "Objective : 109822.02600018823\n",
      "Number of Parameters : 3\n",
      "Number of Optimization Parameters : 3\n",
      "Updates : True\n",
      "Parameters:\n",
      "  \u001b[1mGP_regression.         \u001b[0;0m  |               value  |  constraints  |  priors\n",
      "  \u001b[1mrbf.variance           \u001b[0;0m  |  0.2632677421021444  |      +ve      |        \n",
      "  \u001b[1mrbf.lengthscale        \u001b[0;0m  |                 1.0  |      +ve      |        \n",
      "  \u001b[1mGaussian_noise.variance\u001b[0;0m  |  0.2632677421021445  |      +ve      |        \n"
     ]
    },
    {
     "ename": "TypeError",
     "evalue": "calculated free_dims [ 0  1  2  3  4  5  6  7  8  9 10 11 12 13 14 15 16 17 18 19 20 21 22 23\n 24 25 26 27 28 29 30 31 32 33 34 35 36 37 38 39 40 41 42 43 44 45 46 47\n 48 49 50 51 52 53 54 55 56 57 58 59 60 61 62 63 64 65 66 67 68 69 70 71\n 72 73 74 75 76 77 78 79 80 81 82 83 84 85 86 87 88 89 90 91 92 93 94 95\n 96 97 98 99] from visible_dims None and fixed_dims [] is neither 1D nor 2D",
     "output_type": "error",
     "traceback": [
      "\u001b[0;31m---------------------------------------------------------------------------\u001b[0m",
      "\u001b[0;31mTypeError\u001b[0m                                 Traceback (most recent call last)",
      "Cell \u001b[0;32mIn[3], line 28\u001b[0m\n\u001b[1;32m     25\u001b[0m \u001b[38;5;28mprint\u001b[39m(model)\n\u001b[1;32m     27\u001b[0m \u001b[38;5;66;03m# Plot the model predictions after parameter optimization\u001b[39;00m\n\u001b[0;32m---> 28\u001b[0m model\u001b[38;5;241m.\u001b[39mplot()\n",
      "File \u001b[0;32m~/.conda/envs/minghao_env/lib/python3.12/site-packages/GPy/plotting/gpy_plot/gp_plots.py:324\u001b[0m, in \u001b[0;36mplot\u001b[0;34m(self, plot_limits, fixed_inputs, resolution, plot_raw, apply_link, which_data_ycols, which_data_rows, visible_dims, levels, samples, samples_likelihood, lower, upper, plot_data, plot_inducing, plot_density, predict_kw, projection, legend, **kwargs)\u001b[0m\n\u001b[1;32m    289\u001b[0m \u001b[38;5;250m\u001b[39m\u001b[38;5;124;03m\"\"\"\u001b[39;00m\n\u001b[1;32m    290\u001b[0m \u001b[38;5;124;03mConvenience function for plotting the fit of a GP.\u001b[39;00m\n\u001b[1;32m    291\u001b[0m \n\u001b[0;32m   (...)\u001b[0m\n\u001b[1;32m    321\u001b[0m \u001b[38;5;124;03m:param bool legend: convenience, whether to put a legend on the plot or not.\u001b[39;00m\n\u001b[1;32m    322\u001b[0m \u001b[38;5;124;03m\"\"\"\u001b[39;00m\n\u001b[1;32m    323\u001b[0m X \u001b[38;5;241m=\u001b[39m get_x_y_var(\u001b[38;5;28mself\u001b[39m)[\u001b[38;5;241m0\u001b[39m]\n\u001b[0;32m--> 324\u001b[0m helper_data \u001b[38;5;241m=\u001b[39m helper_for_plot_data(\u001b[38;5;28mself\u001b[39m, X, plot_limits, visible_dims, fixed_inputs, resolution)\n\u001b[1;32m    325\u001b[0m xmin, xmax \u001b[38;5;241m=\u001b[39m helper_data[\u001b[38;5;241m5\u001b[39m:\u001b[38;5;241m7\u001b[39m]\n\u001b[1;32m    326\u001b[0m free_dims \u001b[38;5;241m=\u001b[39m helper_data[\u001b[38;5;241m1\u001b[39m]\n",
      "File \u001b[0;32m~/.conda/envs/minghao_env/lib/python3.12/site-packages/GPy/plotting/gpy_plot/plot_util.py:137\u001b[0m, in \u001b[0;36mhelper_for_plot_data\u001b[0;34m(self, X, plot_limits, visible_dims, fixed_inputs, resolution)\u001b[0m\n\u001b[1;32m    135\u001b[0m         Xgrid[:,i] \u001b[38;5;241m=\u001b[39m v\n\u001b[1;32m    136\u001b[0m \u001b[38;5;28;01melse\u001b[39;00m:\n\u001b[0;32m--> 137\u001b[0m     \u001b[38;5;28;01mraise\u001b[39;00m \u001b[38;5;167;01mTypeError\u001b[39;00m(\u001b[38;5;124m\"\u001b[39m\u001b[38;5;124mcalculated free_dims \u001b[39m\u001b[38;5;132;01m{}\u001b[39;00m\u001b[38;5;124m from visible_dims \u001b[39m\u001b[38;5;132;01m{}\u001b[39;00m\u001b[38;5;124m and fixed_dims \u001b[39m\u001b[38;5;132;01m{}\u001b[39;00m\u001b[38;5;124m is neither 1D nor 2D\u001b[39m\u001b[38;5;124m\"\u001b[39m\u001b[38;5;241m.\u001b[39mformat(free_dims, visible_dims, fixed_dims))\n\u001b[1;32m    138\u001b[0m \u001b[38;5;28;01mreturn\u001b[39;00m fixed_dims, free_dims, Xgrid, x, y, xmin, xmax, resolution\n",
      "\u001b[0;31mTypeError\u001b[0m: calculated free_dims [ 0  1  2  3  4  5  6  7  8  9 10 11 12 13 14 15 16 17 18 19 20 21 22 23\n 24 25 26 27 28 29 30 31 32 33 34 35 36 37 38 39 40 41 42 43 44 45 46 47\n 48 49 50 51 52 53 54 55 56 57 58 59 60 61 62 63 64 65 66 67 68 69 70 71\n 72 73 74 75 76 77 78 79 80 81 82 83 84 85 86 87 88 89 90 91 92 93 94 95\n 96 97 98 99] from visible_dims None and fixed_dims [] is neither 1D nor 2D"
     ]
    }
   ],
   "source": [
    "import numpy as np\n",
    "import GPy\n",
    "\n",
    "input_dim = 100\n",
    "n = 1000\n",
    "# Example data\n",
    "X = np.random.uniform(-3.,3.,(n,input_dim))\n",
    "Y = np.sin(X) + np.random.randn(n,input_dim)*0.05  # Some non-linear function of X plus noise\n",
    "\n",
    "# Define a kernel with initial parameters\n",
    "kernel = GPy.kern.RBF(input_dim=input_dim, variance=1., lengthscale=1.)\n",
    "\n",
    "# Create a Gaussian process model\n",
    "model = GPy.models.GPRegression(X, Y, kernel)\n",
    "\n",
    "# Print initial model parameters\n",
    "print(\"Initial model parameters:\")\n",
    "print(model)\n",
    "\n",
    "# Optimize model parameters\n",
    "model.optimize(messages=True, optimizer='lbfgs')  # Using 'lbfgs' optimizer for example\n",
    "\n",
    "# Print optimized model parameters\n",
    "print(\"\\nOptimized model parameters:\")\n",
    "print(model)\n",
    "\n",
    "# Plot the model predictions after parameter optimization\n",
    "model.plot()\n"
   ]
  },
  {
   "cell_type": "code",
   "execution_count": null,
   "metadata": {},
   "outputs": [],
   "source": []
  }
 ],
 "metadata": {
  "kernelspec": {
   "display_name": "Python 3",
   "language": "python",
   "name": "python3"
  },
  "language_info": {
   "codemirror_mode": {
    "name": "ipython",
    "version": 3
   },
   "file_extension": ".py",
   "mimetype": "text/x-python",
   "name": "python",
   "nbconvert_exporter": "python",
   "pygments_lexer": "ipython3",
   "version": "3.12.1"
  }
 },
 "nbformat": 4,
 "nbformat_minor": 2
}
